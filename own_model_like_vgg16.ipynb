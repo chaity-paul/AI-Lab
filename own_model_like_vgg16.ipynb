{
 "cells": [
  {
   "cell_type": "code",
   "execution_count": 22,
   "metadata": {},
   "outputs": [],
   "source": [
    "from tensorflow.keras.applications import vgg16\n",
    "from tensorflow.keras.layers import Input, Conv2D, MaxPooling2D, Dense, AveragePooling2D, Flatten\n",
    "from tensorflow.keras.models import Model\n",
    "from tensorflow.keras.utils import plot_model"
   ]
  },
  {
   "cell_type": "code",
   "execution_count": 6,
   "metadata": {},
   "outputs": [],
   "source": [
    "def my_CNN():\n",
    "    model = vgg16.VGG16(include_top=False, input_shape=(256,256,3))\n",
    "    model.summary()\n",
    "    return model"
   ]
  },
  {
   "cell_type": "code",
   "execution_count": 7,
   "metadata": {},
   "outputs": [
    {
     "name": "stdout",
     "output_type": "stream",
     "text": [
      "Model: \"vgg16\"\n",
      "_________________________________________________________________\n",
      " Layer (type)                Output Shape              Param #   \n",
      "=================================================================\n",
      " input_3 (InputLayer)        [(None, 256, 256, 3)]     0         \n",
      "                                                                 \n",
      " block1_conv1 (Conv2D)       (None, 256, 256, 64)      1792      \n",
      "                                                                 \n",
      " block1_conv2 (Conv2D)       (None, 256, 256, 64)      36928     \n",
      "                                                                 \n",
      " block1_pool (MaxPooling2D)  (None, 128, 128, 64)      0         \n",
      "                                                                 \n",
      " block2_conv1 (Conv2D)       (None, 128, 128, 128)     73856     \n",
      "                                                                 \n",
      " block2_conv2 (Conv2D)       (None, 128, 128, 128)     147584    \n",
      "                                                                 \n",
      " block2_pool (MaxPooling2D)  (None, 64, 64, 128)       0         \n",
      "                                                                 \n",
      " block3_conv1 (Conv2D)       (None, 64, 64, 256)       295168    \n",
      "                                                                 \n",
      " block3_conv2 (Conv2D)       (None, 64, 64, 256)       590080    \n",
      "                                                                 \n",
      " block3_conv3 (Conv2D)       (None, 64, 64, 256)       590080    \n",
      "                                                                 \n",
      " block3_pool (MaxPooling2D)  (None, 32, 32, 256)       0         \n",
      "                                                                 \n",
      " block4_conv1 (Conv2D)       (None, 32, 32, 512)       1180160   \n",
      "                                                                 \n",
      " block4_conv2 (Conv2D)       (None, 32, 32, 512)       2359808   \n",
      "                                                                 \n",
      " block4_conv3 (Conv2D)       (None, 32, 32, 512)       2359808   \n",
      "                                                                 \n",
      " block4_pool (MaxPooling2D)  (None, 16, 16, 512)       0         \n",
      "                                                                 \n",
      " block5_conv1 (Conv2D)       (None, 16, 16, 512)       2359808   \n",
      "                                                                 \n",
      " block5_conv2 (Conv2D)       (None, 16, 16, 512)       2359808   \n",
      "                                                                 \n",
      " block5_conv3 (Conv2D)       (None, 16, 16, 512)       2359808   \n",
      "                                                                 \n",
      " block5_pool (MaxPooling2D)  (None, 8, 8, 512)         0         \n",
      "                                                                 \n",
      "=================================================================\n",
      "Total params: 14714688 (56.13 MB)\n",
      "Trainable params: 14714688 (56.13 MB)\n",
      "Non-trainable params: 0 (0.00 Byte)\n",
      "_________________________________________________________________\n"
     ]
    }
   ],
   "source": [
    "my_vgg16 = my_CNN()"
   ]
  },
  {
   "cell_type": "code",
   "execution_count": 18,
   "metadata": {},
   "outputs": [],
   "source": [
    "def build_vgg16():\n",
    "    inputs = Input((256, 256, 3))\n",
    "    x = Conv2D(filters = 64, kernel_size = (3, 3), name = 'block1_conv1', activation = 'relu', padding = 'same')(inputs)\n",
    "    x = Conv2D(filters = 64, kernel_size = (3, 3), name = 'block1_conv2', activation = 'relu', padding = 'same')(x)\n",
    "    x = MaxPooling2D(name = 'block1_pool')(x)\n",
    "    x = Conv2D(filters = 128, kernel_size = (3, 3), name = 'block2_conv1', activation = 'relu', padding = 'same')(x)\n",
    "    x = Conv2D(filters = 128, kernel_size = (3, 3), name = 'block2_conv2', activation = 'relu', padding = 'same')(x)\n",
    "    x = MaxPooling2D(name = 'block2_pool')(x)\n",
    "    x = Conv2D(filters = 256, kernel_size = (3, 3), name = 'block3_conv1', activation = 'relu', padding = 'same')(x)\n",
    "    x = Conv2D(filters = 256, kernel_size = (3, 3), name = 'block3_conv2', activation = 'relu', padding = 'same')(x)\n",
    "    x = Conv2D(filters = 256, kernel_size = (3, 3), name = 'block3_conv3', activation = 'relu', padding = 'same')(x)\n",
    "    x = MaxPooling2D(name = 'block3_pool')(x)\n",
    "    x = Conv2D(filters = 512, kernel_size = (3, 3), name = 'block4_conv1', activation = 'relu', padding = 'same')(x)\n",
    "    x = Conv2D(filters = 512, kernel_size = (3, 3), name = 'block4_conv2', activation = 'relu', padding = 'same')(x)\n",
    "    x = Conv2D(filters = 512, kernel_size = (3, 3), name = 'block4_conv3', activation = 'relu', padding = 'same')(x)\n",
    "    x = MaxPooling2D(name = 'block4_pool')(x)\n",
    "    x = Conv2D(filters = 512, kernel_size = (3, 3), name = 'block5_conv1', activation = 'relu', padding = 'same')(x)\n",
    "    x = Conv2D(filters = 512, kernel_size = (3, 3), name = 'block5_conv2', activation = 'relu', padding = 'same')(x)\n",
    "    x = Conv2D(filters = 512, kernel_size = (3, 3), name = 'block5_conv3', activation = 'relu', padding = 'same')(x)\n",
    "    x = MaxPooling2D(name = 'block5_pool')(x)\n",
    "    x = Conv2D(filters = 256, kernel_size = (3, 3), name = 'block6_conv1', activation = 'relu', padding = 'same')(x)\n",
    "    x = Conv2D(filters = 256, kernel_size = (3, 3), name = 'block6_conv2', activation = 'relu', padding = 'same')(x)\n",
    "    x = Conv2D(filters = 256, kernel_size = (3, 3), name = 'block6_conv3', activation = 'relu', padding = 'same')(x)\n",
    "    x = AveragePooling2D(name= 'block6_pool')(x)\n",
    "    x = Flatten(name='flatten')(x)\n",
    "    x = Dense(2048, activation='relu', name='fc1')(x)\n",
    "    x = Dense(4096, activation='relu', name='fc2')(x)\n",
    "    x = Dense(2048, activation='relu', name='fc3')(x)\n",
    "    x = Dense(1024, activation='relu', name='fc4')(x)\n",
    "\n",
    "    outputs = Dense(1000, name = 'prediction', activation = 'sigmoid')(x)\n",
    "    model = Model(inputs, outputs)\n",
    "    model.summary()\n",
    "    return model"
   ]
  },
  {
   "cell_type": "code",
   "execution_count": 20,
   "metadata": {},
   "outputs": [
    {
     "name": "stdout",
     "output_type": "stream",
     "text": [
      "Model: \"model_3\"\n",
      "_________________________________________________________________\n",
      " Layer (type)                Output Shape              Param #   \n",
      "=================================================================\n",
      " input_9 (InputLayer)        [(None, 256, 256, 3)]     0         \n",
      "                                                                 \n",
      " block1_conv1 (Conv2D)       (None, 256, 256, 64)      1792      \n",
      "                                                                 \n",
      " block1_conv2 (Conv2D)       (None, 256, 256, 64)      36928     \n",
      "                                                                 \n",
      " block1_pool (MaxPooling2D)  (None, 128, 128, 64)      0         \n",
      "                                                                 \n",
      " block2_conv1 (Conv2D)       (None, 128, 128, 128)     73856     \n",
      "                                                                 \n",
      " block2_conv2 (Conv2D)       (None, 128, 128, 128)     147584    \n",
      "                                                                 \n",
      " block2_pool (MaxPooling2D)  (None, 64, 64, 128)       0         \n",
      "                                                                 \n",
      " block3_conv1 (Conv2D)       (None, 64, 64, 256)       295168    \n",
      "                                                                 \n",
      " block3_conv2 (Conv2D)       (None, 64, 64, 256)       590080    \n",
      "                                                                 \n",
      " block3_conv3 (Conv2D)       (None, 64, 64, 256)       590080    \n",
      "                                                                 \n",
      " block3_pool (MaxPooling2D)  (None, 32, 32, 256)       0         \n",
      "                                                                 \n",
      " block4_conv1 (Conv2D)       (None, 32, 32, 512)       1180160   \n",
      "                                                                 \n",
      " block4_conv2 (Conv2D)       (None, 32, 32, 512)       2359808   \n",
      "                                                                 \n",
      " block4_conv3 (Conv2D)       (None, 32, 32, 512)       2359808   \n",
      "                                                                 \n",
      " block4_pool (MaxPooling2D)  (None, 16, 16, 512)       0         \n",
      "                                                                 \n",
      " block5_conv1 (Conv2D)       (None, 16, 16, 512)       2359808   \n",
      "                                                                 \n",
      " block5_conv2 (Conv2D)       (None, 16, 16, 512)       2359808   \n",
      "                                                                 \n",
      " block5_conv3 (Conv2D)       (None, 16, 16, 512)       2359808   \n",
      "                                                                 \n",
      " block5_pool (MaxPooling2D)  (None, 8, 8, 512)         0         \n",
      "                                                                 \n",
      " block6_conv1 (Conv2D)       (None, 8, 8, 256)         1179904   \n",
      "                                                                 \n",
      " block6_conv2 (Conv2D)       (None, 8, 8, 256)         590080    \n",
      "                                                                 \n",
      " block6_conv3 (Conv2D)       (None, 8, 8, 256)         590080    \n",
      "                                                                 \n",
      " block6_pool (AveragePoolin  (None, 4, 4, 256)         0         \n",
      " g2D)                                                            \n",
      "                                                                 \n",
      " flatten (Flatten)           (None, 4096)              0         \n",
      "                                                                 \n",
      " fc1 (Dense)                 (None, 2048)              8390656   \n",
      "                                                                 \n",
      " fc2 (Dense)                 (None, 4096)              8392704   \n",
      "                                                                 \n",
      " fc3 (Dense)                 (None, 2048)              8390656   \n",
      "                                                                 \n",
      " fc4 (Dense)                 (None, 1024)              2098176   \n",
      "                                                                 \n",
      " prediction (Dense)          (None, 1000)              1025000   \n",
      "                                                                 \n",
      "=================================================================\n",
      "Total params: 45371944 (173.08 MB)\n",
      "Trainable params: 45371944 (173.08 MB)\n",
      "Non-trainable params: 0 (0.00 Byte)\n",
      "_________________________________________________________________\n"
     ]
    }
   ],
   "source": [
    "my_useless_nosto_srity = build_vgg16()"
   ]
  },
  {
   "cell_type": "code",
   "execution_count": 21,
   "metadata": {},
   "outputs": [],
   "source": [
    "for i in range(len(my_vgg16.layers)):\n",
    "    my_useless_nosto_srity.layers[i].set_weights(my_vgg16.layers[i].get_weights())"
   ]
  }
 ],
 "metadata": {
  "kernelspec": {
   "display_name": "Python 3",
   "language": "python",
   "name": "python3"
  },
  "language_info": {
   "codemirror_mode": {
    "name": "ipython",
    "version": 3
   },
   "file_extension": ".py",
   "mimetype": "text/x-python",
   "name": "python",
   "nbconvert_exporter": "python",
   "pygments_lexer": "ipython3",
   "version": "3.10.11"
  }
 },
 "nbformat": 4,
 "nbformat_minor": 2
}
